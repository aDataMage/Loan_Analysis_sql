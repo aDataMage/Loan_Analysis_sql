{
 "cells": [
  {
   "cell_type": "markdown",
   "id": "ff05f68a",
   "metadata": {},
   "source": [
    "# Stability Analysis"
   ]
  },
  {
   "cell_type": "code",
   "execution_count": 1,
   "id": "1ef4441f",
   "metadata": {},
   "outputs": [],
   "source": [
    "import pandas as pd\n",
    "import matplotlib.pyplot as plt\n",
    "import seaborn as sns\n",
    "import scipy.stats as stats"
   ]
  },
  {
   "cell_type": "code",
   "execution_count": 6,
   "id": "5d8d77fe",
   "metadata": {},
   "outputs": [
    {
     "name": "stdout",
     "output_type": "stream",
     "text": [
      "      state  loan_term  loan_count  default_rate  stability_index\n",
      "0  New York         12         339         0.168            0.375\n",
      "1    Quebec         12         339         0.180            0.385\n",
      "2     Wales         12         363         0.190            0.393\n",
      "3  New York         24         706         0.191            0.394\n",
      "4   Ontario         12         388         0.193            0.395\n"
     ]
    }
   ],
   "source": [
    "filename = '../../Data/Geographic Analysis/stability_analysis.csv'\n",
    "data = pd.read_csv(filename)\n",
    "print(data.head())"
   ]
  },
  {
   "cell_type": "code",
   "execution_count": null,
   "id": "8bf462b1",
   "metadata": {},
   "outputs": [],
   "source": []
  }
 ],
 "metadata": {
  "kernelspec": {
   "display_name": "base",
   "language": "python",
   "name": "python3"
  },
  "language_info": {
   "codemirror_mode": {
    "name": "ipython",
    "version": 3
   },
   "file_extension": ".py",
   "mimetype": "text/x-python",
   "name": "python",
   "nbconvert_exporter": "python",
   "pygments_lexer": "ipython3",
   "version": "3.13.5"
  }
 },
 "nbformat": 4,
 "nbformat_minor": 5
}
