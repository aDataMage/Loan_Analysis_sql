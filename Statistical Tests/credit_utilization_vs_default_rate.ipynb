{
 "cells": [
  {
   "cell_type": "markdown",
   "id": "7f46e0ee",
   "metadata": {},
   "source": [
    "# Credit Utilization Ratio vs Default Rate"
   ]
  },
  {
   "cell_type": "code",
   "execution_count": 1,
   "id": "073be5a6",
   "metadata": {},
   "outputs": [],
   "source": [
    "import pandas as pd\n",
    "import scipy.stats as stats"
   ]
  },
  {
   "cell_type": "code",
   "execution_count": 5,
   "id": "dc6cb7bb",
   "metadata": {},
   "outputs": [],
   "source": [
    "filename = '../Data/cerdit_utilization_vs_default_rate.csv'\n",
    "df = pd.read_csv(filename)"
   ]
  },
  {
   "cell_type": "code",
   "execution_count": 6,
   "id": "60b1c0b5",
   "metadata": {},
   "outputs": [
    {
     "data": {
      "application/vnd.microsoft.datawrangler.viewer.v0+json": {
       "columns": [
        {
         "name": "index",
         "rawType": "int64",
         "type": "integer"
        },
        {
         "name": "credit_utilization",
         "rawType": "object",
         "type": "string"
        },
        {
         "name": "number_of_loans",
         "rawType": "int64",
         "type": "integer"
        },
        {
         "name": "default_rate",
         "rawType": "float64",
         "type": "float"
        }
       ],
       "ref": "620d13e4-eec6-4dd7-95e3-23f6d829948c",
       "rows": [
        [
         "0",
         "0.6 - 0.8",
         "7227",
         "0.214"
        ],
        [
         "1",
         "0.2 - 0.4",
         "7309",
         "0.214"
        ],
        [
         "2",
         "< 0.2",
         "5370",
         "0.217"
        ],
        [
         "3",
         "0.4 - 0.6",
         "7267",
         "0.22"
        ],
        [
         "4",
         "0.8+",
         "5406",
         "0.229"
        ]
       ],
       "shape": {
        "columns": 3,
        "rows": 5
       }
      },
      "text/html": [
       "<div>\n",
       "<style scoped>\n",
       "    .dataframe tbody tr th:only-of-type {\n",
       "        vertical-align: middle;\n",
       "    }\n",
       "\n",
       "    .dataframe tbody tr th {\n",
       "        vertical-align: top;\n",
       "    }\n",
       "\n",
       "    .dataframe thead th {\n",
       "        text-align: right;\n",
       "    }\n",
       "</style>\n",
       "<table border=\"1\" class=\"dataframe\">\n",
       "  <thead>\n",
       "    <tr style=\"text-align: right;\">\n",
       "      <th></th>\n",
       "      <th>credit_utilization</th>\n",
       "      <th>number_of_loans</th>\n",
       "      <th>default_rate</th>\n",
       "    </tr>\n",
       "  </thead>\n",
       "  <tbody>\n",
       "    <tr>\n",
       "      <th>0</th>\n",
       "      <td>0.6 - 0.8</td>\n",
       "      <td>7227</td>\n",
       "      <td>0.214</td>\n",
       "    </tr>\n",
       "    <tr>\n",
       "      <th>1</th>\n",
       "      <td>0.2 - 0.4</td>\n",
       "      <td>7309</td>\n",
       "      <td>0.214</td>\n",
       "    </tr>\n",
       "    <tr>\n",
       "      <th>2</th>\n",
       "      <td>&lt; 0.2</td>\n",
       "      <td>5370</td>\n",
       "      <td>0.217</td>\n",
       "    </tr>\n",
       "    <tr>\n",
       "      <th>3</th>\n",
       "      <td>0.4 - 0.6</td>\n",
       "      <td>7267</td>\n",
       "      <td>0.220</td>\n",
       "    </tr>\n",
       "    <tr>\n",
       "      <th>4</th>\n",
       "      <td>0.8+</td>\n",
       "      <td>5406</td>\n",
       "      <td>0.229</td>\n",
       "    </tr>\n",
       "  </tbody>\n",
       "</table>\n",
       "</div>"
      ],
      "text/plain": [
       "  credit_utilization  number_of_loans  default_rate\n",
       "0          0.6 - 0.8             7227         0.214\n",
       "1          0.2 - 0.4             7309         0.214\n",
       "2              < 0.2             5370         0.217\n",
       "3          0.4 - 0.6             7267         0.220\n",
       "4               0.8+             5406         0.229"
      ]
     },
     "execution_count": 6,
     "metadata": {},
     "output_type": "execute_result"
    }
   ],
   "source": [
    "df"
   ]
  },
  {
   "cell_type": "code",
   "execution_count": null,
   "id": "e1dfe9e1",
   "metadata": {},
   "outputs": [
    {
     "name": "stderr",
     "output_type": "stream",
     "text": [
      "c:\\Users\\PC\\anaconda3\\Lib\\site-packages\\scipy\\stats\\_axis_nan_policy.py:580: SmallSampleWarning: all input arrays have length 1.  f_oneway requires that at least one input has length greater than 1.\n",
      "  if is_too_small(samples, kwds):\n",
      "C:\\Users\\PC\\AppData\\Local\\Temp\\ipykernel_29480\\812868177.py:3: SmallSampleWarning: One or more sample arguments is too small; all returned values will be NaN. See documentation for sample size requirements.\n",
      "  f_stat, p_value = stats.f_oneway(*groups)\n"
     ]
    }
   ],
   "source": [
    "df['default_rate'] = df['default_rate'].apply(lambda x: x * 100)  # Convert to percentage\n",
    "f_stat, p_value = stats.f_oneway()"
   ]
  }
 ],
 "metadata": {
  "kernelspec": {
   "display_name": "base",
   "language": "python",
   "name": "python3"
  },
  "language_info": {
   "codemirror_mode": {
    "name": "ipython",
    "version": 3
   },
   "file_extension": ".py",
   "mimetype": "text/x-python",
   "name": "python",
   "nbconvert_exporter": "python",
   "pygments_lexer": "ipython3",
   "version": "3.13.5"
  }
 },
 "nbformat": 4,
 "nbformat_minor": 5
}
